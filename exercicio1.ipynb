{
 "cells": [
  {
   "cell_type": "code",
   "execution_count": 1,
   "id": "3b8cb13d",
   "metadata": {},
   "outputs": [
    {
     "name": "stdout",
     "output_type": "stream",
     "text": [
      "Olá, mundo!\n"
     ]
    }
   ],
   "source": [
    "print('Olá, mundo!')"
   ]
  },
  {
   "cell_type": "code",
   "execution_count": 2,
   "id": "4033a5d9",
   "metadata": {},
   "outputs": [
    {
     "name": "stdout",
     "output_type": "stream",
     "text": [
      "OiTudo bem?\n"
     ]
    }
   ],
   "source": [
    "print('Oi' 'Tudo bem?')"
   ]
  },
  {
   "cell_type": "code",
   "execution_count": 3,
   "id": "aa5e1961",
   "metadata": {},
   "outputs": [
    {
     "name": "stdout",
     "output_type": "stream",
     "text": [
      "Oi, tudo bem?\n"
     ]
    }
   ],
   "source": [
    "print('Oi, ' 'tudo bem?')"
   ]
  },
  {
   "cell_type": "code",
   "execution_count": 4,
   "id": "d1a0ac0a",
   "metadata": {},
   "outputs": [
    {
     "name": "stdout",
     "output_type": "stream",
     "text": [
      "Oi!\n",
      "Tudo bem?\n"
     ]
    }
   ],
   "source": [
    "print('Oi!')\n",
    "print('Tudo bem?')"
   ]
  },
  {
   "cell_type": "code",
   "execution_count": 5,
   "id": "97311e62",
   "metadata": {},
   "outputs": [
    {
     "name": "stdout",
     "output_type": "stream",
     "text": [
      "Oi\n"
     ]
    }
   ],
   "source": [
    "#isso aqui é um comentário\n",
    "print('Oi')"
   ]
  },
  {
   "cell_type": "code",
   "execution_count": 6,
   "id": "8b897881",
   "metadata": {},
   "outputs": [
    {
     "name": "stdout",
     "output_type": "stream",
     "text": [
      "11\n"
     ]
    }
   ],
   "source": [
    "print(5+6)"
   ]
  },
  {
   "cell_type": "code",
   "execution_count": null,
   "id": "a72dc2d1",
   "metadata": {},
   "outputs": [],
   "source": []
  }
 ],
 "metadata": {
  "kernelspec": {
   "display_name": "Python 3 (ipykernel)",
   "language": "python",
   "name": "python3"
  },
  "language_info": {
   "codemirror_mode": {
    "name": "ipython",
    "version": 3
   },
   "file_extension": ".py",
   "mimetype": "text/x-python",
   "name": "python",
   "nbconvert_exporter": "python",
   "pygments_lexer": "ipython3",
   "version": "3.9.13"
  }
 },
 "nbformat": 4,
 "nbformat_minor": 5
}
