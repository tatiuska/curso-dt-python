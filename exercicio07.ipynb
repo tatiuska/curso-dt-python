{
 "cells": [
  {
   "cell_type": "code",
   "execution_count": 1,
   "id": "54d11aa9",
   "metadata": {},
   "outputs": [
    {
     "name": "stdout",
     "output_type": "stream",
     "text": [
      "Possui muitas calorias!\n"
     ]
    }
   ],
   "source": [
    "comida = 'pizza'\n",
    "if comida == 'pizza':\n",
    "    print('Possui muitas calorias!')"
   ]
  },
  {
   "cell_type": "code",
   "execution_count": 2,
   "id": "b18b9f43",
   "metadata": {},
   "outputs": [
    {
     "name": "stdout",
     "output_type": "stream",
     "text": [
      "Desconheço as calorias.\n"
     ]
    }
   ],
   "source": [
    "comida = 'macarrão'\n",
    "if comida == 'pizza':\n",
    "    print('Possui muitas calorias!')\n",
    "else:\n",
    "    print('Desconheço as calorias.')"
   ]
  },
  {
   "cell_type": "code",
   "execution_count": 5,
   "id": "04017547",
   "metadata": {},
   "outputs": [
    {
     "name": "stdout",
     "output_type": "stream",
     "text": [
      "Possui muitas calorias!\n"
     ]
    }
   ],
   "source": [
    "comida = 'churrasco'\n",
    "if comida == 'pizza':\n",
    "    print('Possui muitas calorias!')\n",
    "elif comida == 'abóbora':\n",
    "    print('Possui poucas calorias!')\n",
    "elif comida == 'churrasco':\n",
    "    print('Possui muitas calorias!')\n",
    "elif comida == 'melão':\n",
    "    print('Possui poucas calorias!')\n",
    "else: \n",
    "    print('Desconheço as calorias')"
   ]
  },
  {
   "cell_type": "code",
   "execution_count": 7,
   "id": "d266c137",
   "metadata": {},
   "outputs": [
    {
     "name": "stdout",
     "output_type": "stream",
     "text": [
      "Não é pizza!\n"
     ]
    }
   ],
   "source": [
    "comida = 'melão'\n",
    "if comida != 'pizza':\n",
    "    print('Não é pizza!')\n",
    "else:\n",
    "    print('É pizza!')"
   ]
  },
  {
   "cell_type": "code",
   "execution_count": null,
   "id": "8523c9b5",
   "metadata": {},
   "outputs": [],
   "source": []
  }
 ],
 "metadata": {
  "kernelspec": {
   "display_name": "Python 3 (ipykernel)",
   "language": "python",
   "name": "python3"
  },
  "language_info": {
   "codemirror_mode": {
    "name": "ipython",
    "version": 3
   },
   "file_extension": ".py",
   "mimetype": "text/x-python",
   "name": "python",
   "nbconvert_exporter": "python",
   "pygments_lexer": "ipython3",
   "version": "3.9.13"
  }
 },
 "nbformat": 4,
 "nbformat_minor": 5
}
