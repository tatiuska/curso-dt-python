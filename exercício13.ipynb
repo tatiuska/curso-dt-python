{
 "cells": [
  {
   "cell_type": "code",
   "execution_count": 3,
   "id": "6a14d59a",
   "metadata": {},
   "outputs": [],
   "source": [
    "def parabens():\n",
    "    print(' Parabéns para você\\n Nesta data querida\\n Muitas felicidades\\n Muitos anos de vida\\n')"
   ]
  },
  {
   "cell_type": "code",
   "execution_count": 4,
   "id": "128b6d40",
   "metadata": {},
   "outputs": [
    {
     "name": "stdout",
     "output_type": "stream",
     "text": [
      " Parabéns para você\n",
      " Nesta data querida\n",
      " Muitas felicidades\n",
      " Muitos anos de vida\n",
      "\n"
     ]
    }
   ],
   "source": [
    "parabens()"
   ]
  },
  {
   "cell_type": "code",
   "execution_count": 5,
   "id": "d99c7984",
   "metadata": {},
   "outputs": [],
   "source": [
    "def temLetraU():\n",
    "    frase = input('Digite uma frase: ')\n",
    "    if 'u' in frase:\n",
    "        print('Você utilizou a letra u')\n",
    "    else:\n",
    "        print('Você não utilizou a letra u')"
   ]
  },
  {
   "cell_type": "code",
   "execution_count": 6,
   "id": "32e5fcb0",
   "metadata": {
    "scrolled": true
   },
   "outputs": [
    {
     "name": "stdout",
     "output_type": "stream",
     "text": [
      "Digite uma frase: Olá, tudo bem?\n",
      "Você utilizou a letra u\n"
     ]
    }
   ],
   "source": [
    "temLetraU()"
   ]
  },
  {
   "cell_type": "code",
   "execution_count": 7,
   "id": "287a7ce0",
   "metadata": {
    "scrolled": true
   },
   "outputs": [
    {
     "name": "stdout",
     "output_type": "stream",
     "text": [
      "Digite uma frase: Hoje o dia está bonito.\n",
      "Você não utilizou a letra u\n"
     ]
    }
   ],
   "source": [
    "temLetraU()"
   ]
  },
  {
   "cell_type": "code",
   "execution_count": 8,
   "id": "e5664c8e",
   "metadata": {
    "scrolled": true
   },
   "outputs": [],
   "source": [
    "def somaQuadrados(a,b):\n",
    "    somaQ = a**2 + b**2\n",
    "    return somaQ"
   ]
  },
  {
   "cell_type": "code",
   "execution_count": 9,
   "id": "849b3f54",
   "metadata": {},
   "outputs": [
    {
     "data": {
      "text/plain": [
       "13"
      ]
     },
     "execution_count": 9,
     "metadata": {},
     "output_type": "execute_result"
    }
   ],
   "source": [
    "somaQuadrados(2,3)"
   ]
  },
  {
   "cell_type": "code",
   "execution_count": 10,
   "id": "d29b9fc0",
   "metadata": {},
   "outputs": [
    {
     "data": {
      "text/plain": [
       "10594"
      ]
     },
     "execution_count": 10,
     "metadata": {},
     "output_type": "execute_result"
    }
   ],
   "source": [
    "somaQuadrados(87,55)"
   ]
  },
  {
   "cell_type": "code",
   "execution_count": null,
   "id": "683611e6",
   "metadata": {},
   "outputs": [],
   "source": []
  }
 ],
 "metadata": {
  "kernelspec": {
   "display_name": "Python 3 (ipykernel)",
   "language": "python",
   "name": "python3"
  },
  "language_info": {
   "codemirror_mode": {
    "name": "ipython",
    "version": 3
   },
   "file_extension": ".py",
   "mimetype": "text/x-python",
   "name": "python",
   "nbconvert_exporter": "python",
   "pygments_lexer": "ipython3",
   "version": "3.9.13"
  }
 },
 "nbformat": 4,
 "nbformat_minor": 5
}
