{
 "cells": [
  {
   "cell_type": "code",
   "execution_count": 2,
   "id": "b5c45de8",
   "metadata": {},
   "outputs": [
    {
     "name": "stdout",
     "output_type": "stream",
     "text": [
      "Ainda não deu.\n",
      "Ainda não deu.\n",
      "Ainda não deu.\n",
      "Ainda não deu.\n",
      "Ainda não deu.\n",
      "Ainda não deu.\n",
      "Ainda não deu.\n",
      "Ainda não deu.\n",
      "Ainda não deu.\n",
      "Ainda não deu.\n",
      "Agora deu!\n"
     ]
    }
   ],
   "source": [
    "contador = 0\n",
    "while contador < 10:\n",
    "    print('Ainda não deu.')\n",
    "    contador = contador + 1\n",
    "print('Agora deu!')"
   ]
  },
  {
   "cell_type": "code",
   "execution_count": 3,
   "id": "bf28509e",
   "metadata": {},
   "outputs": [
    {
     "name": "stdout",
     "output_type": "stream",
     "text": [
      "Ainda não deu.\n"
     ]
    },
    {
     "ename": "NameError",
     "evalue": "name 'time' is not defined",
     "output_type": "error",
     "traceback": [
      "\u001b[1;31m---------------------------------------------------------------------------\u001b[0m",
      "\u001b[1;31mNameError\u001b[0m                                 Traceback (most recent call last)",
      "\u001b[1;32m~\\AppData\\Local\\Temp\\ipykernel_14628\\2050700.py\u001b[0m in \u001b[0;36m<module>\u001b[1;34m\u001b[0m\n\u001b[0;32m      3\u001b[0m     \u001b[0mprint\u001b[0m\u001b[1;33m(\u001b[0m\u001b[1;34m'Ainda não deu.'\u001b[0m\u001b[1;33m)\u001b[0m\u001b[1;33m\u001b[0m\u001b[1;33m\u001b[0m\u001b[0m\n\u001b[0;32m      4\u001b[0m     \u001b[0mcontador\u001b[0m \u001b[1;33m=\u001b[0m \u001b[0mcontador\u001b[0m \u001b[1;33m+\u001b[0m \u001b[1;36m1\u001b[0m\u001b[1;33m\u001b[0m\u001b[1;33m\u001b[0m\u001b[0m\n\u001b[1;32m----> 5\u001b[1;33m     \u001b[0mtime\u001b[0m\u001b[1;33m.\u001b[0m\u001b[0msleep\u001b[0m\u001b[1;33m(\u001b[0m\u001b[1;36m1\u001b[0m\u001b[1;33m)\u001b[0m\u001b[1;33m\u001b[0m\u001b[1;33m\u001b[0m\u001b[0m\n\u001b[0m\u001b[0;32m      6\u001b[0m \u001b[0mprint\u001b[0m\u001b[1;33m(\u001b[0m\u001b[1;34m'Agora deu!'\u001b[0m\u001b[1;33m)\u001b[0m\u001b[1;33m\u001b[0m\u001b[1;33m\u001b[0m\u001b[0m\n",
      "\u001b[1;31mNameError\u001b[0m: name 'time' is not defined"
     ]
    }
   ],
   "source": [
    "contador = 0\n",
    "while contador <10:\n",
    "    print('Ainda não deu.')\n",
    "    contador = contador + 1\n",
    "    time.sleep(1)\n",
    "print('Agora deu!')"
   ]
  },
  {
   "cell_type": "code",
   "execution_count": 4,
   "id": "3f5045b1",
   "metadata": {},
   "outputs": [
    {
     "name": "stdout",
     "output_type": "stream",
     "text": [
      "Ainda não deu.\n",
      "Ainda não deu.\n",
      "Ainda não deu.\n",
      "Ainda não deu.\n",
      "Ainda não deu.\n",
      "Ainda não deu.\n",
      "Ainda não deu.\n",
      "Ainda não deu.\n",
      "Ainda não deu.\n",
      "Ainda não deu.\n",
      "Agora deu!\n"
     ]
    }
   ],
   "source": [
    "import time\n",
    "contador = 0\n",
    "while contador < 10:\n",
    "    print('Ainda não deu.')\n",
    "    contador = contador + 1\n",
    "    time.sleep(1)\n",
    "print('Agora deu!')"
   ]
  },
  {
   "cell_type": "code",
   "execution_count": 5,
   "id": "a5378ef8",
   "metadata": {},
   "outputs": [
    {
     "name": "stdout",
     "output_type": "stream",
     "text": [
      "Ainda não deu.\n",
      "Ainda não deu.\n",
      "Ainda não deu.\n",
      "Ainda não deu.\n",
      "Ainda não deu.\n",
      "Ainda não deu.\n",
      "Agora deu!\n"
     ]
    }
   ],
   "source": [
    "import time\n",
    "contador = 0\n",
    "while contador < 10:\n",
    "    print('Ainda não deu.')\n",
    "    contador = contador + 1\n",
    "    if contador == 6:\n",
    "        break\n",
    "    time.sleep(1)\n",
    "print('Agora deu!')"
   ]
  },
  {
   "cell_type": "code",
   "execution_count": null,
   "id": "05d53171",
   "metadata": {},
   "outputs": [],
   "source": []
  }
 ],
 "metadata": {
  "kernelspec": {
   "display_name": "Python 3 (ipykernel)",
   "language": "python",
   "name": "python3"
  },
  "language_info": {
   "codemirror_mode": {
    "name": "ipython",
    "version": 3
   },
   "file_extension": ".py",
   "mimetype": "text/x-python",
   "name": "python",
   "nbconvert_exporter": "python",
   "pygments_lexer": "ipython3",
   "version": "3.9.13"
  }
 },
 "nbformat": 4,
 "nbformat_minor": 5
}
