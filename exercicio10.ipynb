{
 "cells": [
  {
   "cell_type": "code",
   "execution_count": 2,
   "id": "b0bdd5ef",
   "metadata": {
    "scrolled": true
   },
   "outputs": [
    {
     "name": "stdout",
     "output_type": "stream",
     "text": [
      "Ainda não deu.\n",
      "Ainda não deu.\n",
      "Ainda não deu.\n",
      "Ainda não deu.\n",
      "Ainda não deu.\n",
      "Ainda não deu.\n",
      "Ainda não deu.\n",
      "Ainda não deu.\n",
      "Ainda não deu.\n",
      "Ainda não deu.\n",
      "Agora deu!\n"
     ]
    }
   ],
   "source": [
    "contador = 0\n",
    "while contador < 10:\n",
    "    print('Ainda não deu.')\n",
    "    contador = contador + 1\n",
    "print('Agora deu!')"
   ]
  },
  {
   "cell_type": "code",
   "execution_count": 4,
   "id": "d5b04115",
   "metadata": {},
   "outputs": [
    {
     "name": "stdout",
     "output_type": "stream",
     "text": [
      "Ainda não deu.\n",
      "Ainda não deu.\n",
      "Ainda não deu.\n",
      "Ainda não deu.\n",
      "Ainda não deu.\n",
      "Ainda não deu.\n",
      "Ainda não deu.\n",
      "Ainda não deu.\n",
      "Ainda não deu.\n",
      "Ainda não deu.\n",
      "Agora deu!\n"
     ]
    }
   ],
   "source": [
    "import time\n",
    "contador = 0\n",
    "while contador < 10:\n",
    "    print('Ainda não deu.')\n",
    "    contador = contador + 1\n",
    "    time.sleep(1)\n",
    "print('Agora deu!')"
   ]
  },
  {
   "cell_type": "code",
   "execution_count": 5,
   "id": "5f87e93c",
   "metadata": {},
   "outputs": [
    {
     "name": "stdout",
     "output_type": "stream",
     "text": [
      "Ainda não deu.\n",
      "Ainda não deu.\n",
      "Ainda não deu.\n",
      "Ainda não deu.\n",
      "Ainda não deu.\n",
      "Ainda não deu.\n",
      "Agora deu!\n"
     ]
    }
   ],
   "source": [
    "import time\n",
    "contador = 0\n",
    "while contador < 10:\n",
    "    print('Ainda não deu.')\n",
    "    contador = contador + 1\n",
    "    if contador == 6:\n",
    "        break\n",
    "    time.sleep(1)\n",
    "print('Agora deu!')"
   ]
  },
  {
   "cell_type": "code",
   "execution_count": null,
   "id": "e8579c2e",
   "metadata": {},
   "outputs": [],
   "source": []
  }
 ],
 "metadata": {
  "kernelspec": {
   "display_name": "Python 3 (ipykernel)",
   "language": "python",
   "name": "python3"
  },
  "language_info": {
   "codemirror_mode": {
    "name": "ipython",
    "version": 3
   },
   "file_extension": ".py",
   "mimetype": "text/x-python",
   "name": "python",
   "nbconvert_exporter": "python",
   "pygments_lexer": "ipython3",
   "version": "3.9.13"
  }
 },
 "nbformat": 4,
 "nbformat_minor": 5
}
