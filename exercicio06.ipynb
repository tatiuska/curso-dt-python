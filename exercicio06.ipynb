{
 "cells": [
  {
   "cell_type": "code",
   "execution_count": 1,
   "id": "044a9769",
   "metadata": {},
   "outputs": [],
   "source": [
    "fruta = 'Laranja'"
   ]
  },
  {
   "cell_type": "code",
   "execution_count": 2,
   "id": "dce2f01d",
   "metadata": {},
   "outputs": [
    {
     "name": "stdout",
     "output_type": "stream",
     "text": [
      "Suco de Laranja é o meu favorito!\n"
     ]
    }
   ],
   "source": [
    "print('Suco de %s é o meu favorito!' %fruta)"
   ]
  },
  {
   "cell_type": "code",
   "execution_count": 5,
   "id": "8b938d39",
   "metadata": {},
   "outputs": [],
   "source": [
    "fruta = 'Limão'"
   ]
  },
  {
   "cell_type": "code",
   "execution_count": 6,
   "id": "f1b4a159",
   "metadata": {},
   "outputs": [
    {
     "name": "stdout",
     "output_type": "stream",
     "text": [
      "Suco de Limão é o meu favorito!\n"
     ]
    }
   ],
   "source": [
    "print('Suco de %s é o meu favorito!' %fruta)"
   ]
  },
  {
   "cell_type": "code",
   "execution_count": 7,
   "id": "39b10c86",
   "metadata": {},
   "outputs": [],
   "source": [
    "fruta = 6"
   ]
  },
  {
   "cell_type": "code",
   "execution_count": 8,
   "id": "62834d1c",
   "metadata": {},
   "outputs": [
    {
     "data": {
      "text/plain": [
       "int"
      ]
     },
     "execution_count": 8,
     "metadata": {},
     "output_type": "execute_result"
    }
   ],
   "source": [
    "type(fruta)"
   ]
  },
  {
   "cell_type": "code",
   "execution_count": 9,
   "id": "94033aa2",
   "metadata": {},
   "outputs": [],
   "source": [
    "fruta = 'Manga'"
   ]
  },
  {
   "cell_type": "code",
   "execution_count": 10,
   "id": "af6f59b3",
   "metadata": {},
   "outputs": [
    {
     "name": "stdout",
     "output_type": "stream",
     "text": [
      "Suco de Manga é o meu favorito!\n"
     ]
    }
   ],
   "source": [
    "print('Suco de {} é o meu favorito!'.format(fruta))"
   ]
  },
  {
   "cell_type": "code",
   "execution_count": 11,
   "id": "d1508558",
   "metadata": {},
   "outputs": [],
   "source": [
    "cor1 = 'azul'\n",
    "cor2 = 'rosa'"
   ]
  },
  {
   "cell_type": "code",
   "execution_count": 12,
   "id": "2470065f",
   "metadata": {},
   "outputs": [
    {
     "name": "stdout",
     "output_type": "stream",
     "text": [
      "O céu é azul, a flor é rosa e meu carro é azul\n"
     ]
    }
   ],
   "source": [
    "print('O céu é {0}, a flor é {1} e meu carro é {0}'.format(cor1, cor2))"
   ]
  },
  {
   "cell_type": "code",
   "execution_count": 13,
   "id": "00baf033",
   "metadata": {},
   "outputs": [
    {
     "name": "stdout",
     "output_type": "stream",
     "text": [
      "5.666666666666667\n"
     ]
    }
   ],
   "source": [
    "conta = 17/3\n",
    "print(conta)"
   ]
  },
  {
   "cell_type": "code",
   "execution_count": 14,
   "id": "3edf9f3b",
   "metadata": {},
   "outputs": [
    {
     "name": "stdout",
     "output_type": "stream",
     "text": [
      "O resultado é: 5.666666666666667\n"
     ]
    }
   ],
   "source": [
    "print('O resultado é: {}'.format(conta))"
   ]
  },
  {
   "cell_type": "code",
   "execution_count": 16,
   "id": "ce1ef928",
   "metadata": {},
   "outputs": [
    {
     "name": "stdout",
     "output_type": "stream",
     "text": [
      "O resultado é: 5.67\n"
     ]
    }
   ],
   "source": [
    "print('O resultado é: {:.2f}'.format(conta))"
   ]
  },
  {
   "cell_type": "code",
   "execution_count": null,
   "id": "ca247152",
   "metadata": {},
   "outputs": [],
   "source": []
  }
 ],
 "metadata": {
  "kernelspec": {
   "display_name": "Python 3 (ipykernel)",
   "language": "python",
   "name": "python3"
  },
  "language_info": {
   "codemirror_mode": {
    "name": "ipython",
    "version": 3
   },
   "file_extension": ".py",
   "mimetype": "text/x-python",
   "name": "python",
   "nbconvert_exporter": "python",
   "pygments_lexer": "ipython3",
   "version": "3.9.13"
  }
 },
 "nbformat": 4,
 "nbformat_minor": 5
}
