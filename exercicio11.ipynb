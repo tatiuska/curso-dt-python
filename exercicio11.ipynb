{
 "cells": [
  {
   "cell_type": "code",
   "execution_count": 4,
   "id": "d618619b",
   "metadata": {
    "scrolled": true
   },
   "outputs": [
    {
     "name": "stdout",
     "output_type": "stream",
     "text": [
      "Digite um número: 8\n",
      "8! = 40320\n"
     ]
    }
   ],
   "source": [
    "numero = int(input('Digite um número: '))\n",
    "fatorial = numero\n",
    "contador = 1\n",
    "while (numero-contador)>1:\n",
    "    fatorial = fatorial*(numero-contador)\n",
    "    contador += 1\n",
    "print('{0}! = {1}'.format(numero, fatorial))"
   ]
  },
  {
   "cell_type": "code",
   "execution_count": null,
   "id": "79eb524c",
   "metadata": {},
   "outputs": [],
   "source": []
  }
 ],
 "metadata": {
  "kernelspec": {
   "display_name": "Python 3 (ipykernel)",
   "language": "python",
   "name": "python3"
  },
  "language_info": {
   "codemirror_mode": {
    "name": "ipython",
    "version": 3
   },
   "file_extension": ".py",
   "mimetype": "text/x-python",
   "name": "python",
   "nbconvert_exporter": "python",
   "pygments_lexer": "ipython3",
   "version": "3.9.13"
  }
 },
 "nbformat": 4,
 "nbformat_minor": 5
}
