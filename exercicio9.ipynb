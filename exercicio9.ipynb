{
 "cells": [
  {
   "cell_type": "code",
   "execution_count": 1,
   "id": "24e0850f",
   "metadata": {},
   "outputs": [
    {
     "name": "stdout",
     "output_type": "stream",
     "text": [
      "0\n",
      "1\n",
      "2\n",
      "3\n",
      "4\n"
     ]
    }
   ],
   "source": [
    "for i in range(5):\n",
    "    print(i)"
   ]
  },
  {
   "cell_type": "code",
   "execution_count": 2,
   "id": "57dfaca8",
   "metadata": {},
   "outputs": [
    {
     "name": "stdout",
     "output_type": "stream",
     "text": [
      "0\n",
      "12\n",
      "24\n",
      "36\n",
      "48\n",
      "60\n",
      "72\n"
     ]
    }
   ],
   "source": [
    "for i in range(7):\n",
    "    print(i*12)"
   ]
  },
  {
   "cell_type": "code",
   "execution_count": 9,
   "id": "c267215c",
   "metadata": {},
   "outputs": [
    {
     "name": "stdout",
     "output_type": "stream",
     "text": [
      "5\n"
     ]
    }
   ],
   "source": [
    "a = 0\n",
    "for i in range(5):\n",
    "    a = a + 1\n",
    "print(a)"
   ]
  },
  {
   "cell_type": "code",
   "execution_count": 10,
   "id": "c0620e6b",
   "metadata": {},
   "outputs": [
    {
     "name": "stdout",
     "output_type": "stream",
     "text": [
      "Frase\n",
      "Frase\n",
      "Frase\n",
      "Frase\n",
      "Frase\n",
      "Frase\n",
      "Frase\n",
      "Frase\n",
      "Frase\n",
      "Frase\n"
     ]
    }
   ],
   "source": [
    "a = 0\n",
    "b = 10\n",
    "for i in range(b):\n",
    "    print('Frase')"
   ]
  },
  {
   "cell_type": "code",
   "execution_count": 11,
   "id": "ac0856e1",
   "metadata": {},
   "outputs": [
    {
     "name": "stdout",
     "output_type": "stream",
     "text": [
      "M\n",
      "a\n",
      "t\n",
      "e\n",
      "m\n",
      "á\n",
      "t\n",
      "i\n",
      "c\n",
      "a\n"
     ]
    }
   ],
   "source": [
    "palavra = 'Matemática'\n",
    "for i in palavra:\n",
    "    print(i)"
   ]
  },
  {
   "cell_type": "code",
   "execution_count": 13,
   "id": "13a1bc09",
   "metadata": {},
   "outputs": [
    {
     "name": "stdout",
     "output_type": "stream",
     "text": [
      "2\n",
      "oi\n",
      "8\n",
      "10\n",
      "4\n",
      "4\n"
     ]
    }
   ],
   "source": [
    "lista = [2, 'oi', 8, 10, 4, 4]\n",
    "for num in lista:\n",
    "    print(num)"
   ]
  },
  {
   "cell_type": "code",
   "execution_count": null,
   "id": "2ceae0d4",
   "metadata": {},
   "outputs": [],
   "source": []
  }
 ],
 "metadata": {
  "kernelspec": {
   "display_name": "Python 3 (ipykernel)",
   "language": "python",
   "name": "python3"
  },
  "language_info": {
   "codemirror_mode": {
    "name": "ipython",
    "version": 3
   },
   "file_extension": ".py",
   "mimetype": "text/x-python",
   "name": "python",
   "nbconvert_exporter": "python",
   "pygments_lexer": "ipython3",
   "version": "3.9.13"
  }
 },
 "nbformat": 4,
 "nbformat_minor": 5
}
