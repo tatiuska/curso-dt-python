{
 "cells": [
  {
   "cell_type": "code",
   "execution_count": 12,
   "id": "3e5b841b",
   "metadata": {},
   "outputs": [
    {
     "name": "stdout",
     "output_type": "stream",
     "text": [
      "Que ano você nasceu? 1960\n",
      "Você é um adulto.\n"
     ]
    }
   ],
   "source": [
    "ano = input('Que ano você nasceu? ')\n",
    "if ano <= '2005':\n",
    "    print('Você é um adulto.')\n",
    "else:\n",
    "    print('Você não é um adulto.')"
   ]
  },
  {
   "cell_type": "code",
   "execution_count": 13,
   "id": "5ef0c3d8",
   "metadata": {},
   "outputs": [
    {
     "name": "stdout",
     "output_type": "stream",
     "text": [
      "Que ano você nasceu? 2017\n",
      "Você ainda não é adulto!\n"
     ]
    }
   ],
   "source": [
    "ano = int(input('Que ano você nasceu? '))\n",
    "idade = 2022 - ano\n",
    "if idade >= 18:\n",
    "    print('Você é adulto!')\n",
    "else: \n",
    "    print('Você ainda não é adulto!')"
   ]
  },
  {
   "cell_type": "code",
   "execution_count": null,
   "id": "7d453fa6",
   "metadata": {},
   "outputs": [],
   "source": [
    "ano = int(input('Que ano você nasceu? '))\n",
    "idade = 2022 - ano\n",
    "if idade >= 18:\n",
    "    print('Você é adulto!')\n",
    "else:\n",
    "    print('Você ainda não é adulto!')"
   ]
  },
  {
   "cell_type": "code",
   "execution_count": null,
   "id": "3a59e79a",
   "metadata": {},
   "outputs": [],
   "source": []
  }
 ],
 "metadata": {
  "kernelspec": {
   "display_name": "Python 3 (ipykernel)",
   "language": "python",
   "name": "python3"
  },
  "language_info": {
   "codemirror_mode": {
    "name": "ipython",
    "version": 3
   },
   "file_extension": ".py",
   "mimetype": "text/x-python",
   "name": "python",
   "nbconvert_exporter": "python",
   "pygments_lexer": "ipython3",
   "version": "3.9.13"
  }
 },
 "nbformat": 4,
 "nbformat_minor": 5
}
